{
  "nbformat": 4,
  "nbformat_minor": 0,
  "metadata": {
    "colab": {
      "provenance": []
    },
    "kernelspec": {
      "name": "python3",
      "display_name": "Python 3"
    },
    "language_info": {
      "name": "python"
    }
  },
  "cells": [
    {
      "cell_type": "markdown",
      "source": [
        "#Install libraries"
      ],
      "metadata": {
        "id": "FHr5_KBalYxz"
      }
    },
    {
      "cell_type": "code",
      "execution_count": 1,
      "metadata": {
        "id": "FkzaHiV_dKoc",
        "colab": {
          "base_uri": "https://localhost:8080/"
        },
        "outputId": "e56b0323-127e-4c82-c21b-b5b037fe66c6"
      },
      "outputs": [
        {
          "output_type": "stream",
          "name": "stdout",
          "text": [
            "Looking in indexes: https://pypi.org/simple, https://us-python.pkg.dev/colab-wheels/public/simple/\n",
            "Collecting yfinance\n",
            "  Downloading yfinance-0.2.12-py2.py3-none-any.whl (59 kB)\n",
            "\u001b[2K     \u001b[90m━━━━━━━━━━━━━━━━━━━━━━━━━━━━━━━━━━━━━━━━\u001b[0m \u001b[32m59.2/59.2 KB\u001b[0m \u001b[31m2.1 MB/s\u001b[0m eta \u001b[36m0:00:00\u001b[0m\n",
            "\u001b[?25hRequirement already satisfied: beautifulsoup4>=4.11.1 in /usr/local/lib/python3.9/dist-packages (from yfinance) (4.11.2)\n",
            "Requirement already satisfied: requests>=2.26 in /usr/local/lib/python3.9/dist-packages (from yfinance) (2.27.1)\n",
            "Collecting appdirs>=1.4.4\n",
            "  Downloading appdirs-1.4.4-py2.py3-none-any.whl (9.6 kB)\n",
            "Requirement already satisfied: html5lib>=1.1 in /usr/local/lib/python3.9/dist-packages (from yfinance) (1.1)\n",
            "Collecting cryptography>=3.3.2\n",
            "  Downloading cryptography-39.0.2-cp36-abi3-manylinux_2_28_x86_64.whl (4.2 MB)\n",
            "\u001b[2K     \u001b[90m━━━━━━━━━━━━━━━━━━━━━━━━━━━━━━━━━━━━━━━━\u001b[0m \u001b[32m4.2/4.2 MB\u001b[0m \u001b[31m21.8 MB/s\u001b[0m eta \u001b[36m0:00:00\u001b[0m\n",
            "\u001b[?25hRequirement already satisfied: pandas>=1.3.0 in /usr/local/lib/python3.9/dist-packages (from yfinance) (1.4.4)\n",
            "Requirement already satisfied: lxml>=4.9.1 in /usr/local/lib/python3.9/dist-packages (from yfinance) (4.9.2)\n",
            "Collecting frozendict>=2.3.4\n",
            "  Downloading frozendict-2.3.5-cp39-cp39-manylinux_2_17_x86_64.manylinux2014_x86_64.whl (112 kB)\n",
            "\u001b[2K     \u001b[90m━━━━━━━━━━━━━━━━━━━━━━━━━━━━━━━━━━━━━━━\u001b[0m \u001b[32m112.8/112.8 KB\u001b[0m \u001b[31m6.0 MB/s\u001b[0m eta \u001b[36m0:00:00\u001b[0m\n",
            "\u001b[?25hRequirement already satisfied: pytz>=2022.5 in /usr/local/lib/python3.9/dist-packages (from yfinance) (2022.7.1)\n",
            "Requirement already satisfied: numpy>=1.16.5 in /usr/local/lib/python3.9/dist-packages (from yfinance) (1.22.4)\n",
            "Requirement already satisfied: multitasking>=0.0.7 in /usr/local/lib/python3.9/dist-packages (from yfinance) (0.0.11)\n",
            "Requirement already satisfied: soupsieve>1.2 in /usr/local/lib/python3.9/dist-packages (from beautifulsoup4>=4.11.1->yfinance) (2.4)\n",
            "Requirement already satisfied: cffi>=1.12 in /usr/local/lib/python3.9/dist-packages (from cryptography>=3.3.2->yfinance) (1.15.1)\n",
            "Requirement already satisfied: webencodings in /usr/local/lib/python3.9/dist-packages (from html5lib>=1.1->yfinance) (0.5.1)\n",
            "Requirement already satisfied: six>=1.9 in /usr/local/lib/python3.9/dist-packages (from html5lib>=1.1->yfinance) (1.15.0)\n",
            "Requirement already satisfied: python-dateutil>=2.8.1 in /usr/local/lib/python3.9/dist-packages (from pandas>=1.3.0->yfinance) (2.8.2)\n",
            "Requirement already satisfied: idna<4,>=2.5 in /usr/local/lib/python3.9/dist-packages (from requests>=2.26->yfinance) (3.4)\n",
            "Requirement already satisfied: certifi>=2017.4.17 in /usr/local/lib/python3.9/dist-packages (from requests>=2.26->yfinance) (2022.12.7)\n",
            "Requirement already satisfied: charset-normalizer~=2.0.0 in /usr/local/lib/python3.9/dist-packages (from requests>=2.26->yfinance) (2.0.12)\n",
            "Requirement already satisfied: urllib3<1.27,>=1.21.1 in /usr/local/lib/python3.9/dist-packages (from requests>=2.26->yfinance) (1.26.15)\n",
            "Requirement already satisfied: pycparser in /usr/local/lib/python3.9/dist-packages (from cffi>=1.12->cryptography>=3.3.2->yfinance) (2.21)\n",
            "Installing collected packages: appdirs, frozendict, cryptography, yfinance\n",
            "Successfully installed appdirs-1.4.4 cryptography-39.0.2 frozendict-2.3.5 yfinance-0.2.12\n"
          ]
        }
      ],
      "source": [
        "pip install yfinance"
      ]
    },
    {
      "cell_type": "code",
      "source": [
        "pip install pandas_ta"
      ],
      "metadata": {
        "colab": {
          "base_uri": "https://localhost:8080/"
        },
        "id": "nTwEVZH_JQX0",
        "outputId": "79142b26-f63e-4066-deba-0de5f22da03c"
      },
      "execution_count": 2,
      "outputs": [
        {
          "output_type": "stream",
          "name": "stdout",
          "text": [
            "Looking in indexes: https://pypi.org/simple, https://us-python.pkg.dev/colab-wheels/public/simple/\n",
            "Collecting pandas_ta\n",
            "  Downloading pandas_ta-0.3.14b.tar.gz (115 kB)\n",
            "\u001b[2K     \u001b[90m━━━━━━━━━━━━━━━━━━━━━━━━━━━━━━━━━━━━━━\u001b[0m \u001b[32m115.1/115.1 KB\u001b[0m \u001b[31m10.9 MB/s\u001b[0m eta \u001b[36m0:00:00\u001b[0m\n",
            "\u001b[?25h  Preparing metadata (setup.py) ... \u001b[?25l\u001b[?25hdone\n",
            "Requirement already satisfied: pandas in /usr/local/lib/python3.9/dist-packages (from pandas_ta) (1.4.4)\n",
            "Requirement already satisfied: pytz>=2020.1 in /usr/local/lib/python3.9/dist-packages (from pandas->pandas_ta) (2022.7.1)\n",
            "Requirement already satisfied: python-dateutil>=2.8.1 in /usr/local/lib/python3.9/dist-packages (from pandas->pandas_ta) (2.8.2)\n",
            "Requirement already satisfied: numpy>=1.18.5 in /usr/local/lib/python3.9/dist-packages (from pandas->pandas_ta) (1.22.4)\n",
            "Requirement already satisfied: six>=1.5 in /usr/local/lib/python3.9/dist-packages (from python-dateutil>=2.8.1->pandas->pandas_ta) (1.15.0)\n",
            "Building wheels for collected packages: pandas_ta\n",
            "  Building wheel for pandas_ta (setup.py) ... \u001b[?25l\u001b[?25hdone\n",
            "  Created wheel for pandas_ta: filename=pandas_ta-0.3.14b0-py3-none-any.whl size=218921 sha256=3d58b6a7a24dd5d3e78a3c757dcebc76f34672a82ff0ad5e4bbeae482e9f7fca\n",
            "  Stored in directory: /root/.cache/pip/wheels/1e/5c/47/759b32beb377aee150eb4c1f1b2b7635032cc19ea09ce076fd\n",
            "Successfully built pandas_ta\n",
            "Installing collected packages: pandas_ta\n",
            "Successfully installed pandas_ta-0.3.14b0\n"
          ]
        }
      ]
    },
    {
      "cell_type": "markdown",
      "source": [
        "#Classification On Stocks based on Closing Price Derivatives"
      ],
      "metadata": {
        "id": "UCtpXIO3lhP1"
      }
    },
    {
      "cell_type": "markdown",
      "source": [
        "##Calculate features"
      ],
      "metadata": {
        "id": "Li70uSEZloch"
      }
    },
    {
      "cell_type": "code",
      "source": [
        "import numpy as np\n",
        "import pandas as pd\n",
        "from sklearn.model_selection import train_test_split\n",
        "import yfinance as yf  \n",
        "yf.pdr_override()\n",
        "from pandas_datareader import data as pdr\n",
        "import matplotlib.pyplot as plt\n",
        "\n",
        "import pandas_ta as pta\n",
        "from sklearn.preprocessing import MinMaxScaler, StandardScaler \n",
        "from tensorflow.keras.layers import Dense, LSTM,GRU,SimpleRNN, Dropout,Bidirectional\n",
        "from tensorflow.keras.optimizers import Adam\n",
        "from keras.models import Sequential\n",
        "from keras.layers import Dense, LSTM"
      ],
      "metadata": {
        "id": "TVyFHc9jiLQZ"
      },
      "execution_count": 10,
      "outputs": []
    },
    {
      "cell_type": "code",
      "source": [
        "df = pdr.get_data_yahoo(\"IBM\", start=\"1980-02-01\", end=\"2022-07-13\")"
      ],
      "metadata": {
        "colab": {
          "base_uri": "https://localhost:8080/"
        },
        "id": "gYedtCQNInuH",
        "outputId": "6c8cefb2-4fc9-48f5-9bae-ae647aa50a36"
      },
      "execution_count": 236,
      "outputs": [
        {
          "output_type": "stream",
          "name": "stdout",
          "text": [
            "\r[*********************100%***********************]  1 of 1 completed\n"
          ]
        }
      ]
    },
    {
      "cell_type": "code",
      "source": [
        "df['Close_pct'] = df['Close'].pct_change()*100\n",
        "df['EWMA15'] = df['Close'].ewm(span=5).mean()\n",
        "df['EWMA15_pct'] = df['EWMA15'].pct_change()*100"
      ],
      "metadata": {
        "id": "yEdyANBYdgPJ"
      },
      "execution_count": 237,
      "outputs": []
    },
    {
      "cell_type": "code",
      "source": [
        "df"
      ],
      "metadata": {
        "colab": {
          "base_uri": "https://localhost:8080/",
          "height": 455
        },
        "id": "tbsof_U1LYFV",
        "outputId": "5708fc73-eee6-4213-b258-36fa2adbaa82"
      },
      "execution_count": 238,
      "outputs": [
        {
          "output_type": "execute_result",
          "data": {
            "text/plain": [
              "                  Open        High         Low       Close   Adj Close  \\\n",
              "Date                                                                     \n",
              "1980-02-01   16.401770   16.610899   16.342016   16.581022    4.950255   \n",
              "1980-02-04   16.581022   16.640774   16.401770   16.521273    4.932415   \n",
              "1980-02-05   16.521273   16.640774   16.431644   16.640774    4.968094   \n",
              "1980-02-06   16.491396   16.491396   16.192638   16.342016    4.939919   \n",
              "1980-02-07   16.312141   16.312141   16.043261   16.043261    4.849609   \n",
              "...                ...         ...         ...         ...         ...   \n",
              "2022-07-06  138.000000  139.139999  137.130005  138.080002  133.120148   \n",
              "2022-07-07  138.910004  141.320007  138.830002  140.830002  135.771362   \n",
              "2022-07-08  140.759995  141.320007  139.820007  140.470001  135.424301   \n",
              "2022-07-11  140.619995  141.869995  140.130005  141.000000  135.935242   \n",
              "2022-07-12  140.839996  141.550003  138.570007  139.179993  134.180618   \n",
              "\n",
              "             Volume  Close_pct      EWMA15  EWMA15_pct  \n",
              "Date                                                    \n",
              "1980-02-01  1513353        NaN   16.581022         NaN  \n",
              "1980-02-04  1205829  -0.360349   16.545173   -0.216210  \n",
              "1980-02-05  1595778   0.723317   16.590457    0.273704  \n",
              "1980-02-06  2133003  -1.795335   16.487259   -0.622036  \n",
              "1980-02-07  2145555  -1.828144   16.316814   -1.033797  \n",
              "...             ...        ...         ...         ...  \n",
              "2022-07-06  3237000   0.334259  139.261247   -0.422320  \n",
              "2022-07-07  3897100   1.991599  139.784166    0.375494  \n",
              "2022-07-08  2820800  -0.255628  140.012777    0.163546  \n",
              "2022-07-11  3904700   0.377304  140.341852    0.235032  \n",
              "2022-07-12  3235400  -1.290785  139.954565   -0.275959  \n",
              "\n",
              "[10701 rows x 9 columns]"
            ],
            "text/html": [
              "\n",
              "  <div id=\"df-16c44f7f-df89-4100-9d7e-7d30d47786c6\">\n",
              "    <div class=\"colab-df-container\">\n",
              "      <div>\n",
              "<style scoped>\n",
              "    .dataframe tbody tr th:only-of-type {\n",
              "        vertical-align: middle;\n",
              "    }\n",
              "\n",
              "    .dataframe tbody tr th {\n",
              "        vertical-align: top;\n",
              "    }\n",
              "\n",
              "    .dataframe thead th {\n",
              "        text-align: right;\n",
              "    }\n",
              "</style>\n",
              "<table border=\"1\" class=\"dataframe\">\n",
              "  <thead>\n",
              "    <tr style=\"text-align: right;\">\n",
              "      <th></th>\n",
              "      <th>Open</th>\n",
              "      <th>High</th>\n",
              "      <th>Low</th>\n",
              "      <th>Close</th>\n",
              "      <th>Adj Close</th>\n",
              "      <th>Volume</th>\n",
              "      <th>Close_pct</th>\n",
              "      <th>EWMA15</th>\n",
              "      <th>EWMA15_pct</th>\n",
              "    </tr>\n",
              "    <tr>\n",
              "      <th>Date</th>\n",
              "      <th></th>\n",
              "      <th></th>\n",
              "      <th></th>\n",
              "      <th></th>\n",
              "      <th></th>\n",
              "      <th></th>\n",
              "      <th></th>\n",
              "      <th></th>\n",
              "      <th></th>\n",
              "    </tr>\n",
              "  </thead>\n",
              "  <tbody>\n",
              "    <tr>\n",
              "      <th>1980-02-01</th>\n",
              "      <td>16.401770</td>\n",
              "      <td>16.610899</td>\n",
              "      <td>16.342016</td>\n",
              "      <td>16.581022</td>\n",
              "      <td>4.950255</td>\n",
              "      <td>1513353</td>\n",
              "      <td>NaN</td>\n",
              "      <td>16.581022</td>\n",
              "      <td>NaN</td>\n",
              "    </tr>\n",
              "    <tr>\n",
              "      <th>1980-02-04</th>\n",
              "      <td>16.581022</td>\n",
              "      <td>16.640774</td>\n",
              "      <td>16.401770</td>\n",
              "      <td>16.521273</td>\n",
              "      <td>4.932415</td>\n",
              "      <td>1205829</td>\n",
              "      <td>-0.360349</td>\n",
              "      <td>16.545173</td>\n",
              "      <td>-0.216210</td>\n",
              "    </tr>\n",
              "    <tr>\n",
              "      <th>1980-02-05</th>\n",
              "      <td>16.521273</td>\n",
              "      <td>16.640774</td>\n",
              "      <td>16.431644</td>\n",
              "      <td>16.640774</td>\n",
              "      <td>4.968094</td>\n",
              "      <td>1595778</td>\n",
              "      <td>0.723317</td>\n",
              "      <td>16.590457</td>\n",
              "      <td>0.273704</td>\n",
              "    </tr>\n",
              "    <tr>\n",
              "      <th>1980-02-06</th>\n",
              "      <td>16.491396</td>\n",
              "      <td>16.491396</td>\n",
              "      <td>16.192638</td>\n",
              "      <td>16.342016</td>\n",
              "      <td>4.939919</td>\n",
              "      <td>2133003</td>\n",
              "      <td>-1.795335</td>\n",
              "      <td>16.487259</td>\n",
              "      <td>-0.622036</td>\n",
              "    </tr>\n",
              "    <tr>\n",
              "      <th>1980-02-07</th>\n",
              "      <td>16.312141</td>\n",
              "      <td>16.312141</td>\n",
              "      <td>16.043261</td>\n",
              "      <td>16.043261</td>\n",
              "      <td>4.849609</td>\n",
              "      <td>2145555</td>\n",
              "      <td>-1.828144</td>\n",
              "      <td>16.316814</td>\n",
              "      <td>-1.033797</td>\n",
              "    </tr>\n",
              "    <tr>\n",
              "      <th>...</th>\n",
              "      <td>...</td>\n",
              "      <td>...</td>\n",
              "      <td>...</td>\n",
              "      <td>...</td>\n",
              "      <td>...</td>\n",
              "      <td>...</td>\n",
              "      <td>...</td>\n",
              "      <td>...</td>\n",
              "      <td>...</td>\n",
              "    </tr>\n",
              "    <tr>\n",
              "      <th>2022-07-06</th>\n",
              "      <td>138.000000</td>\n",
              "      <td>139.139999</td>\n",
              "      <td>137.130005</td>\n",
              "      <td>138.080002</td>\n",
              "      <td>133.120148</td>\n",
              "      <td>3237000</td>\n",
              "      <td>0.334259</td>\n",
              "      <td>139.261247</td>\n",
              "      <td>-0.422320</td>\n",
              "    </tr>\n",
              "    <tr>\n",
              "      <th>2022-07-07</th>\n",
              "      <td>138.910004</td>\n",
              "      <td>141.320007</td>\n",
              "      <td>138.830002</td>\n",
              "      <td>140.830002</td>\n",
              "      <td>135.771362</td>\n",
              "      <td>3897100</td>\n",
              "      <td>1.991599</td>\n",
              "      <td>139.784166</td>\n",
              "      <td>0.375494</td>\n",
              "    </tr>\n",
              "    <tr>\n",
              "      <th>2022-07-08</th>\n",
              "      <td>140.759995</td>\n",
              "      <td>141.320007</td>\n",
              "      <td>139.820007</td>\n",
              "      <td>140.470001</td>\n",
              "      <td>135.424301</td>\n",
              "      <td>2820800</td>\n",
              "      <td>-0.255628</td>\n",
              "      <td>140.012777</td>\n",
              "      <td>0.163546</td>\n",
              "    </tr>\n",
              "    <tr>\n",
              "      <th>2022-07-11</th>\n",
              "      <td>140.619995</td>\n",
              "      <td>141.869995</td>\n",
              "      <td>140.130005</td>\n",
              "      <td>141.000000</td>\n",
              "      <td>135.935242</td>\n",
              "      <td>3904700</td>\n",
              "      <td>0.377304</td>\n",
              "      <td>140.341852</td>\n",
              "      <td>0.235032</td>\n",
              "    </tr>\n",
              "    <tr>\n",
              "      <th>2022-07-12</th>\n",
              "      <td>140.839996</td>\n",
              "      <td>141.550003</td>\n",
              "      <td>138.570007</td>\n",
              "      <td>139.179993</td>\n",
              "      <td>134.180618</td>\n",
              "      <td>3235400</td>\n",
              "      <td>-1.290785</td>\n",
              "      <td>139.954565</td>\n",
              "      <td>-0.275959</td>\n",
              "    </tr>\n",
              "  </tbody>\n",
              "</table>\n",
              "<p>10701 rows × 9 columns</p>\n",
              "</div>\n",
              "      <button class=\"colab-df-convert\" onclick=\"convertToInteractive('df-16c44f7f-df89-4100-9d7e-7d30d47786c6')\"\n",
              "              title=\"Convert this dataframe to an interactive table.\"\n",
              "              style=\"display:none;\">\n",
              "        \n",
              "  <svg xmlns=\"http://www.w3.org/2000/svg\" height=\"24px\"viewBox=\"0 0 24 24\"\n",
              "       width=\"24px\">\n",
              "    <path d=\"M0 0h24v24H0V0z\" fill=\"none\"/>\n",
              "    <path d=\"M18.56 5.44l.94 2.06.94-2.06 2.06-.94-2.06-.94-.94-2.06-.94 2.06-2.06.94zm-11 1L8.5 8.5l.94-2.06 2.06-.94-2.06-.94L8.5 2.5l-.94 2.06-2.06.94zm10 10l.94 2.06.94-2.06 2.06-.94-2.06-.94-.94-2.06-.94 2.06-2.06.94z\"/><path d=\"M17.41 7.96l-1.37-1.37c-.4-.4-.92-.59-1.43-.59-.52 0-1.04.2-1.43.59L10.3 9.45l-7.72 7.72c-.78.78-.78 2.05 0 2.83L4 21.41c.39.39.9.59 1.41.59.51 0 1.02-.2 1.41-.59l7.78-7.78 2.81-2.81c.8-.78.8-2.07 0-2.86zM5.41 20L4 18.59l7.72-7.72 1.47 1.35L5.41 20z\"/>\n",
              "  </svg>\n",
              "      </button>\n",
              "      \n",
              "  <style>\n",
              "    .colab-df-container {\n",
              "      display:flex;\n",
              "      flex-wrap:wrap;\n",
              "      gap: 12px;\n",
              "    }\n",
              "\n",
              "    .colab-df-convert {\n",
              "      background-color: #E8F0FE;\n",
              "      border: none;\n",
              "      border-radius: 50%;\n",
              "      cursor: pointer;\n",
              "      display: none;\n",
              "      fill: #1967D2;\n",
              "      height: 32px;\n",
              "      padding: 0 0 0 0;\n",
              "      width: 32px;\n",
              "    }\n",
              "\n",
              "    .colab-df-convert:hover {\n",
              "      background-color: #E2EBFA;\n",
              "      box-shadow: 0px 1px 2px rgba(60, 64, 67, 0.3), 0px 1px 3px 1px rgba(60, 64, 67, 0.15);\n",
              "      fill: #174EA6;\n",
              "    }\n",
              "\n",
              "    [theme=dark] .colab-df-convert {\n",
              "      background-color: #3B4455;\n",
              "      fill: #D2E3FC;\n",
              "    }\n",
              "\n",
              "    [theme=dark] .colab-df-convert:hover {\n",
              "      background-color: #434B5C;\n",
              "      box-shadow: 0px 1px 3px 1px rgba(0, 0, 0, 0.15);\n",
              "      filter: drop-shadow(0px 1px 2px rgba(0, 0, 0, 0.3));\n",
              "      fill: #FFFFFF;\n",
              "    }\n",
              "  </style>\n",
              "\n",
              "      <script>\n",
              "        const buttonEl =\n",
              "          document.querySelector('#df-16c44f7f-df89-4100-9d7e-7d30d47786c6 button.colab-df-convert');\n",
              "        buttonEl.style.display =\n",
              "          google.colab.kernel.accessAllowed ? 'block' : 'none';\n",
              "\n",
              "        async function convertToInteractive(key) {\n",
              "          const element = document.querySelector('#df-16c44f7f-df89-4100-9d7e-7d30d47786c6');\n",
              "          const dataTable =\n",
              "            await google.colab.kernel.invokeFunction('convertToInteractive',\n",
              "                                                     [key], {});\n",
              "          if (!dataTable) return;\n",
              "\n",
              "          const docLinkHtml = 'Like what you see? Visit the ' +\n",
              "            '<a target=\"_blank\" href=https://colab.research.google.com/notebooks/data_table.ipynb>data table notebook</a>'\n",
              "            + ' to learn more about interactive tables.';\n",
              "          element.innerHTML = '';\n",
              "          dataTable['output_type'] = 'display_data';\n",
              "          await google.colab.output.renderOutput(dataTable, element);\n",
              "          const docLink = document.createElement('div');\n",
              "          docLink.innerHTML = docLinkHtml;\n",
              "          element.appendChild(docLink);\n",
              "        }\n",
              "      </script>\n",
              "    </div>\n",
              "  </div>\n",
              "  "
            ]
          },
          "metadata": {},
          "execution_count": 238
        }
      ]
    },
    {
      "cell_type": "code",
      "source": [
        "plt.plot(df['Close_pct'])\n",
        "plt.plot(df['EWMA15_pct'])"
      ],
      "metadata": {
        "colab": {
          "base_uri": "https://localhost:8080/",
          "height": 283
        },
        "id": "FkbSWWc0duuv",
        "outputId": "5cad06cd-478b-4fdd-c47d-ba70f4a127aa"
      },
      "execution_count": 239,
      "outputs": [
        {
          "output_type": "execute_result",
          "data": {
            "text/plain": [
              "[<matplotlib.lines.Line2D at 0x7f5fc0e24a00>]"
            ]
          },
          "metadata": {},
          "execution_count": 239
        },
        {
          "output_type": "display_data",
          "data": {
            "text/plain": [
              "<Figure size 432x288 with 1 Axes>"
            ],
            "image/png": "[encoded data removed]"
          },
          "metadata": {
            "needs_background": "light"
          }
        }
      ]
    },
    {
      "cell_type": "code",
      "source": [
        "df = df[1:]\n",
        "df"
      ],
      "metadata": {
        "colab": {
          "base_uri": "https://localhost:8080/",
          "height": 455
        },
        "id": "DEHbrG_cejl2",
        "outputId": "cd1cb805-0321-4a1f-9336-7e14cbfdb41e"
      },
      "execution_count": 240,
      "outputs": [
        {
          "output_type": "execute_result",
          "data": {
            "text/plain": [
              "                  Open        High         Low       Close   Adj Close  \\\n",
              "Date                                                                     \n",
              "1980-02-04   16.581022   16.640774   16.401770   16.521273    4.932415   \n",
              "1980-02-05   16.521273   16.640774   16.431644   16.640774    4.968094   \n",
              "1980-02-06   16.491396   16.491396   16.192638   16.342016    4.939919   \n",
              "1980-02-07   16.312141   16.312141   16.043261   16.043261    4.849609   \n",
              "1980-02-08   16.043261   16.162764   15.834130   16.073135    4.858636   \n",
              "...                ...         ...         ...         ...         ...   \n",
              "2022-07-06  138.000000  139.139999  137.130005  138.080002  133.120148   \n",
              "2022-07-07  138.910004  141.320007  138.830002  140.830002  135.771362   \n",
              "2022-07-08  140.759995  141.320007  139.820007  140.470001  135.424301   \n",
              "2022-07-11  140.619995  141.869995  140.130005  141.000000  135.935242   \n",
              "2022-07-12  140.839996  141.550003  138.570007  139.179993  134.180618   \n",
              "\n",
              "             Volume  Close_pct      EWMA15  EWMA15_pct  \n",
              "Date                                                    \n",
              "1980-02-04  1205829  -0.360349   16.545173   -0.216210  \n",
              "1980-02-05  1595778   0.723317   16.590457    0.273704  \n",
              "1980-02-06  2133003  -1.795335   16.487259   -0.622036  \n",
              "1980-02-07  2145555  -1.828144   16.316814   -1.033797  \n",
              "1980-02-08  2631318   0.186214   16.227770   -0.545716  \n",
              "...             ...        ...         ...         ...  \n",
              "2022-07-06  3237000   0.334259  139.261247   -0.422320  \n",
              "2022-07-07  3897100   1.991599  139.784166    0.375494  \n",
              "2022-07-08  2820800  -0.255628  140.012777    0.163546  \n",
              "2022-07-11  3904700   0.377304  140.341852    0.235032  \n",
              "2022-07-12  3235400  -1.290785  139.954565   -0.275959  \n",
              "\n",
              "[10700 rows x 9 columns]"
            ],
            "text/html": [
              "\n",
              "  <div id=\"df-3bfc303b-20bc-49a7-8f75-7bf047502600\">\n",
              "    <div class=\"colab-df-container\">\n",
              "      <div>\n",
              "<style scoped>\n",
              "    .dataframe tbody tr th:only-of-type {\n",
              "        vertical-align: middle;\n",
              "    }\n",
              "\n",
              "    .dataframe tbody tr th {\n",
              "        vertical-align: top;\n",
              "    }\n",
              "\n",
              "    .dataframe thead th {\n",
              "        text-align: right;\n",
              "    }\n",
              "</style>\n",
              "<table border=\"1\" class=\"dataframe\">\n",
              "  <thead>\n",
              "    <tr style=\"text-align: right;\">\n",
              "      <th></th>\n",
              "      <th>Open</th>\n",
              "      <th>High</th>\n",
              "      <th>Low</th>\n",
              "      <th>Close</th>\n",
              "      <th>Adj Close</th>\n",
              "      <th>Volume</th>\n",
              "      <th>Close_pct</th>\n",
              "      <th>EWMA15</th>\n",
              "      <th>EWMA15_pct</th>\n",
              "    </tr>\n",
              "    <tr>\n",
              "      <th>Date</th>\n",
              "      <th></th>\n",
              "      <th></th>\n",
              "      <th></th>\n",
              "      <th></th>\n",
              "      <th></th>\n",
              "      <th></th>\n",
              "      <th></th>\n",
              "      <th></th>\n",
              "      <th></th>\n",
              "    </tr>\n",
              "  </thead>\n",
              "  <tbody>\n",
              "    <tr>\n",
              "      <th>1980-02-04</th>\n",
              "      <td>16.581022</td>\n",
              "      <td>16.640774</td>\n",
              "      <td>16.401770</td>\n",
              "      <td>16.521273</td>\n",
              "      <td>4.932415</td>\n",
              "      <td>1205829</td>\n",
              "      <td>-0.360349</td>\n",
              "      <td>16.545173</td>\n",
              "      <td>-0.216210</td>\n",
              "    </tr>\n",
              "    <tr>\n",
              "      <th>1980-02-05</th>\n",
              "      <td>16.521273</td>\n",
              "      <td>16.640774</td>\n",
              "      <td>16.431644</td>\n",
              "      <td>16.640774</td>\n",
              "      <td>4.968094</td>\n",
              "      <td>1595778</td>\n",
              "      <td>0.723317</td>\n",
              "      <td>16.590457</td>\n",
              "      <td>0.273704</td>\n",
              "    </tr>\n",
              "    <tr>\n",
              "      <th>1980-02-06</th>\n",
              "      <td>16.491396</td>\n",
              "      <td>16.491396</td>\n",
              "      <td>16.192638</td>\n",
              "      <td>16.342016</td>\n",
              "      <td>4.939919</td>\n",
              "      <td>2133003</td>\n",
              "      <td>-1.795335</td>\n",
              "      <td>16.487259</td>\n",
              "      <td>-0.622036</td>\n",
              "    </tr>\n",
              "    <tr>\n",
              "      <th>1980-02-07</th>\n",
              "      <td>16.312141</td>\n",
              "      <td>16.312141</td>\n",
              "      <td>16.043261</td>\n",
              "      <td>16.043261</td>\n",
              "      <td>4.849609</td>\n",
              "      <td>2145555</td>\n",
              "      <td>-1.828144</td>\n",
              "      <td>16.316814</td>\n",
              "      <td>-1.033797</td>\n",
              "    </tr>\n",
              "    <tr>\n",
              "      <th>1980-02-08</th>\n",
              "      <td>16.043261</td>\n",
              "      <td>16.162764</td>\n",
              "      <td>15.834130</td>\n",
              "      <td>16.073135</td>\n",
              "      <td>4.858636</td>\n",
              "      <td>2631318</td>\n",
              "      <td>0.186214</td>\n",
              "      <td>16.227770</td>\n",
              "      <td>-0.545716</td>\n",
              "    </tr>\n",
              "    <tr>\n",
              "      <th>...</th>\n",
              "      <td>...</td>\n",
              "      <td>...</td>\n",
              "      <td>...</td>\n",
              "      <td>...</td>\n",
              "      <td>...</td>\n",
              "      <td>...</td>\n",
              "      <td>...</td>\n",
              "      <td>...</td>\n",
              "      <td>...</td>\n",
              "    </tr>\n",
              "    <tr>\n",
              "      <th>2022-07-06</th>\n",
              "      <td>138.000000</td>\n",
              "      <td>139.139999</td>\n",
              "      <td>137.130005</td>\n",
              "      <td>138.080002</td>\n",
              "      <td>133.120148</td>\n",
              "      <td>3237000</td>\n",
              "      <td>0.334259</td>\n",
              "      <td>139.261247</td>\n",
              "      <td>-0.422320</td>\n",
              "    </tr>\n",
              "    <tr>\n",
              "      <th>2022-07-07</th>\n",
              "      <td>138.910004</td>\n",
              "      <td>141.320007</td>\n",
              "      <td>138.830002</td>\n",
              "      <td>140.830002</td>\n",
              "      <td>135.771362</td>\n",
              "      <td>3897100</td>\n",
              "      <td>1.991599</td>\n",
              "      <td>139.784166</td>\n",
              "      <td>0.375494</td>\n",
              "    </tr>\n",
              "    <tr>\n",
              "      <th>2022-07-08</th>\n",
              "      <td>140.759995</td>\n",
              "      <td>141.320007</td>\n",
              "      <td>139.820007</td>\n",
              "      <td>140.470001</td>\n",
              "      <td>135.424301</td>\n",
              "      <td>2820800</td>\n",
              "      <td>-0.255628</td>\n",
              "      <td>140.012777</td>\n",
              "      <td>0.163546</td>\n",
              "    </tr>\n",
              "    <tr>\n",
              "      <th>2022-07-11</th>\n",
              "      <td>140.619995</td>\n",
              "      <td>141.869995</td>\n",
              "      <td>140.130005</td>\n",
              "      <td>141.000000</td>\n",
              "      <td>135.935242</td>\n",
              "      <td>3904700</td>\n",
              "      <td>0.377304</td>\n",
              "      <td>140.341852</td>\n",
              "      <td>0.235032</td>\n",
              "    </tr>\n",
              "    <tr>\n",
              "      <th>2022-07-12</th>\n",
              "      <td>140.839996</td>\n",
              "      <td>141.550003</td>\n",
              "      <td>138.570007</td>\n",
              "      <td>139.179993</td>\n",
              "      <td>134.180618</td>\n",
              "      <td>3235400</td>\n",
              "      <td>-1.290785</td>\n",
              "      <td>139.954565</td>\n",
              "      <td>-0.275959</td>\n",
              "    </tr>\n",
              "  </tbody>\n",
              "</table>\n",
              "<p>10700 rows × 9 columns</p>\n",
              "</div>\n",
              "      <button class=\"colab-df-convert\" onclick=\"convertToInteractive('df-3bfc303b-20bc-49a7-8f75-7bf047502600')\"\n",
              "              title=\"Convert this dataframe to an interactive table.\"\n",
              "              style=\"display:none;\">\n",
              "        \n",
              "  <svg xmlns=\"http://www.w3.org/2000/svg\" height=\"24px\"viewBox=\"0 0 24 24\"\n",
              "       width=\"24px\">\n",
              "    <path d=\"M0 0h24v24H0V0z\" fill=\"none\"/>\n",
              "    <path d=\"M18.56 5.44l.94 2.06.94-2.06 2.06-.94-2.06-.94-.94-2.06-.94 2.06-2.06.94zm-11 1L8.5 8.5l.94-2.06 2.06-.94-2.06-.94L8.5 2.5l-.94 2.06-2.06.94zm10 10l.94 2.06.94-2.06 2.06-.94-2.06-.94-.94-2.06-.94 2.06-2.06.94z\"/><path d=\"M17.41 7.96l-1.37-1.37c-.4-.4-.92-.59-1.43-.59-.52 0-1.04.2-1.43.59L10.3 9.45l-7.72 7.72c-.78.78-.78 2.05 0 2.83L4 21.41c.39.39.9.59 1.41.59.51 0 1.02-.2 1.41-.59l7.78-7.78 2.81-2.81c.8-.78.8-2.07 0-2.86zM5.41 20L4 18.59l7.72-7.72 1.47 1.35L5.41 20z\"/>\n",
              "  </svg>\n",
              "      </button>\n",
              "      \n",
              "  <style>\n",
              "    .colab-df-container {\n",
              "      display:flex;\n",
              "      flex-wrap:wrap;\n",
              "      gap: 12px;\n",
              "    }\n",
              "\n",
              "    .colab-df-convert {\n",
              "      background-color: #E8F0FE;\n",
              "      border: none;\n",
              "      border-radius: 50%;\n",
              "      cursor: pointer;\n",
              "      display: none;\n",
              "      fill: #1967D2;\n",
              "      height: 32px;\n",
              "      padding: 0 0 0 0;\n",
              "      width: 32px;\n",
              "    }\n",
              "\n",
              "    .colab-df-convert:hover {\n",
              "      background-color: #E2EBFA;\n",
              "      box-shadow: 0px 1px 2px rgba(60, 64, 67, 0.3), 0px 1px 3px 1px rgba(60, 64, 67, 0.15);\n",
              "      fill: #174EA6;\n",
              "    }\n",
              "\n",
              "    [theme=dark] .colab-df-convert {\n",
              "      background-color: #3B4455;\n",
              "      fill: #D2E3FC;\n",
              "    }\n",
              "\n",
              "    [theme=dark] .colab-df-convert:hover {\n",
              "      background-color: #434B5C;\n",
              "      box-shadow: 0px 1px 3px 1px rgba(0, 0, 0, 0.15);\n",
              "      filter: drop-shadow(0px 1px 2px rgba(0, 0, 0, 0.3));\n",
              "      fill: #FFFFFF;\n",
              "    }\n",
              "  </style>\n",
              "\n",
              "      <script>\n",
              "        const buttonEl =\n",
              "          document.querySelector('#df-3bfc303b-20bc-49a7-8f75-7bf047502600 button.colab-df-convert');\n",
              "        buttonEl.style.display =\n",
              "          google.colab.kernel.accessAllowed ? 'block' : 'none';\n",
              "\n",
              "        async function convertToInteractive(key) {\n",
              "          const element = document.querySelector('#df-3bfc303b-20bc-49a7-8f75-7bf047502600');\n",
              "          const dataTable =\n",
              "            await google.colab.kernel.invokeFunction('convertToInteractive',\n",
              "                                                     [key], {});\n",
              "          if (!dataTable) return;\n",
              "\n",
              "          const docLinkHtml = 'Like what you see? Visit the ' +\n",
              "            '<a target=\"_blank\" href=https://colab.research.google.com/notebooks/data_table.ipynb>data table notebook</a>'\n",
              "            + ' to learn more about interactive tables.';\n",
              "          element.innerHTML = '';\n",
              "          dataTable['output_type'] = 'display_data';\n",
              "          await google.colab.output.renderOutput(dataTable, element);\n",
              "          const docLink = document.createElement('div');\n",
              "          docLink.innerHTML = docLinkHtml;\n",
              "          element.appendChild(docLink);\n",
              "        }\n",
              "      </script>\n",
              "    </div>\n",
              "  </div>\n",
              "  "
            ]
          },
          "metadata": {},
          "execution_count": 240
        }
      ]
    },
    {
      "cell_type": "code",
      "source": [
        "#Clip the close pct at 5\n",
        "\n",
        "df['Close_pct'] = np.where(abs(df['Close_pct']) > 5, 5,df['Close_pct'])\n",
        "df['EWMA15_pct'] = np.where(abs(df['EWMA15_pct']) > 5, 5,df['EWMA15_pct'])\n",
        "plt.plot(df['Close_pct'])"
      ],
      "metadata": {
        "colab": {
          "base_uri": "https://localhost:8080/",
          "height": 502
        },
        "id": "UyVwMnpEd82z",
        "outputId": "a6c0ad9b-fb73-4baf-9e0f-2530377fdebd"
      },
      "execution_count": 241,
      "outputs": [
        {
          "output_type": "stream",
          "name": "stderr",
          "text": [
            "<ipython-input-241-43856d7d8320>:3: SettingWithCopyWarning: \n",
            "A value is trying to be set on a copy of a slice from a DataFrame.\n",
            "Try using .loc[row_indexer,col_indexer] = value instead\n",
            "\n",
            "See the caveats in the documentation: https://pandas.pydata.org/pandas-docs/stable/user_guide/indexing.html#returning-a-view-versus-a-copy\n",
            "  df['Close_pct'] = np.where(abs(df['Close_pct']) > 5, 5,df['Close_pct'])\n",
            "<ipython-input-241-43856d7d8320>:4: SettingWithCopyWarning: \n",
            "A value is trying to be set on a copy of a slice from a DataFrame.\n",
            "Try using .loc[row_indexer,col_indexer] = value instead\n",
            "\n",
            "See the caveats in the documentation: https://pandas.pydata.org/pandas-docs/stable/user_guide/indexing.html#returning-a-view-versus-a-copy\n",
            "  df['EWMA15_pct'] = np.where(abs(df['EWMA15_pct']) > 5, 5,df['EWMA15_pct'])\n"
          ]
        },
        {
          "output_type": "execute_result",
          "data": {
            "text/plain": [
              "[<matplotlib.lines.Line2D at 0x7f5fc02d3f70>]"
            ]
          },
          "metadata": {},
          "execution_count": 241
        },
        {
          "output_type": "display_data",
          "data": {
            "text/plain": [
              "<Figure size 432x288 with 1 Axes>"
            ],
            "image/png": "[encoded data removed]"
          },
          "metadata": {
            "needs_background": "light"
          }
        }
      ]
    },
    {
      "cell_type": "code",
      "source": [
        "plt.plot(df['Close_pct'][:20])\n",
        "plt.plot(df['EWMA15_pct'][:20])"
      ],
      "metadata": {
        "colab": {
          "base_uri": "https://localhost:8080/",
          "height": 283
        },
        "id": "cn3ANpfDecz4",
        "outputId": "e48ded13-9218-4ee2-9173-3ffcb71ded56"
      },
      "execution_count": 242,
      "outputs": [
        {
          "output_type": "execute_result",
          "data": {
            "text/plain": [
              "[<matplotlib.lines.Line2D at 0x7f5fc0253850>]"
            ]
          },
          "metadata": {},
          "execution_count": 242
        },
        {
          "output_type": "display_data",
          "data": {
            "text/plain": [
              "<Figure size 432x288 with 1 Axes>"
            ],
            "image/png": "[encoded data removed]"
          },
          "metadata": {
            "needs_background": "light"
          }
        }
      ]
    },
    {
      "cell_type": "markdown",
      "source": [
        "##Create Dataset, Scale and create Training and Testing Split"
      ],
      "metadata": {
        "id": "vhb28v3tlrgC"
      }
    },
    {
      "cell_type": "code",
      "source": [
        "x = list(df['EWMA15_pct'])"
      ],
      "metadata": {
        "id": "bDQH5MMofVay"
      },
      "execution_count": 243,
      "outputs": []
    },
    {
      "cell_type": "code",
      "source": [
        "len(x)"
      ],
      "metadata": {
        "colab": {
          "base_uri": "https://localhost:8080/"
        },
        "id": "Mk6pyq7BfeN1",
        "outputId": "2a85a2cc-d58b-459a-ce58-fd280092ab97"
      },
      "execution_count": 244,
      "outputs": [
        {
          "output_type": "execute_result",
          "data": {
            "text/plain": [
              "10700"
            ]
          },
          "metadata": {},
          "execution_count": 244
        }
      ]
    },
    {
      "cell_type": "code",
      "source": [
        "input_sequences = []\n",
        "target_sequences1 = []\n",
        "\n",
        "no_of_past_days = 100\n",
        "no_of_future_days = 4\n",
        "for i in range(no_of_past_days, len(x)-3):\n",
        "  target_sequences1.append(x[i: i+no_of_future_days])\n",
        "  input_sequences.append(x[i-no_of_past_days: i])\n"
      ],
      "metadata": {
        "id": "xZQRkkHNfeLJ"
      },
      "execution_count": 274,
      "outputs": []
    },
    {
      "cell_type": "code",
      "source": [
        "input_array = np.array(input_sequences, dtype=object).astype('float32') \n",
        "target_array = np.array(target_sequences1, dtype=object).astype('float32')\n",
        "\n",
        "print(input_array.shape, target_array.shape)"
      ],
      "metadata": {
        "colab": {
          "base_uri": "https://localhost:8080/"
        },
        "id": "O6yZ7tNkgiVC",
        "outputId": "ec9a26a4-e956-44d1-8bd9-4e1b1ac391d2"
      },
      "execution_count": 275,
      "outputs": [
        {
          "output_type": "stream",
          "name": "stdout",
          "text": [
            "(10597, 100) (10597, 4)\n"
          ]
        }
      ]
    },
    {
      "cell_type": "code",
      "source": [
        "input_array = np.reshape(input_array, (input_array.shape[0],1,-1))"
      ],
      "metadata": {
        "id": "dx95ZXTOh1bY"
      },
      "execution_count": 276,
      "outputs": []
    },
    {
      "cell_type": "code",
      "source": [
        "input_array.shape, target_array.shape"
      ],
      "metadata": {
        "colab": {
          "base_uri": "https://localhost:8080/"
        },
        "id": "nW9rkfeqh1Zf",
        "outputId": "2190336b-9af3-4a0b-b815-b7ea80df90fa"
      },
      "execution_count": 277,
      "outputs": [
        {
          "output_type": "execute_result",
          "data": {
            "text/plain": [
              "((10597, 1, 100), (10597, 4))"
            ]
          },
          "metadata": {},
          "execution_count": 277
        }
      ]
    },
    {
      "cell_type": "code",
      "source": [
        "from sklearn.model_selection import train_test_split\n",
        "\n",
        "X_train, X_test, y_train, y_test = train_test_split( input_array, target_array, test_size=0.33, random_state=42)"
      ],
      "metadata": {
        "id": "9RApkGPRlfQu"
      },
      "execution_count": 278,
      "outputs": []
    },
    {
      "cell_type": "code",
      "source": [
        "X_train.shape, X_test.shape, y_train.shape, y_test.shape"
      ],
      "metadata": {
        "colab": {
          "base_uri": "https://localhost:8080/"
        },
        "id": "XmHvtZWilfCz",
        "outputId": "27902b95-2773-42c2-81a7-8c595a3ce72c"
      },
      "execution_count": 279,
      "outputs": [
        {
          "output_type": "execute_result",
          "data": {
            "text/plain": [
              "((7099, 1, 100), (3498, 1, 100), (7099, 4), (3498, 4))"
            ]
          },
          "metadata": {},
          "execution_count": 279
        }
      ]
    },
    {
      "cell_type": "code",
      "source": [
        "import keras\n",
        "from keras import layers\n",
        "import tensorflow as tf\n",
        "\n",
        "tf.random.set_seed(0)\n",
        "\n",
        "model = keras.Sequential()\n",
        "\n",
        "model.add(layers.LSTM(128, return_sequences=True, recurrent_dropout=0.2,\n",
        "                                           kernel_initializer=tf.keras.initializers.random_normal(seed=1)))\n",
        "model.add(layers.LSTM(128, return_sequences=True, recurrent_dropout=0.2,\n",
        "                                           kernel_initializer=tf.keras.initializers.random_normal(seed=1)))\n",
        "\n",
        "model.add(layers.Dense(no_of_future_days, activation='sigmoid', \n",
        "                       kernel_initializer=tf.keras.initializers.random_normal(seed=1)))\n",
        "\n",
        "model.compile(loss='mse',\n",
        "              optimizer='adam',\n",
        "              metrics=['mse'])\n"
      ],
      "metadata": {
        "id": "0TiVfffHh1WI"
      },
      "execution_count": 280,
      "outputs": []
    },
    {
      "cell_type": "code",
      "source": [
        "history = model.fit(X_train, y_train, epochs=50, \n",
        "                    batch_size=16,  validation_split=0.2)"
      ],
      "metadata": {
        "colab": {
          "base_uri": "https://localhost:8080/"
        },
        "id": "Spo2Wm5-h1TA",
        "outputId": "ab689734-1e9b-421f-8b31-b3b70f5c0d9e"
      },
      "execution_count": 281,
      "outputs": [
        {
          "output_type": "stream",
          "name": "stdout",
          "text": [
            "Epoch 1/50\n",
            "355/355 [==============================] - 10s 12ms/step - loss: 0.5716 - mse: 0.5716 - val_loss: 0.5644 - val_mse: 0.5648\n",
            "Epoch 2/50\n",
            "355/355 [==============================] - 3s 9ms/step - loss: 0.5328 - mse: 0.5328 - val_loss: 0.5638 - val_mse: 0.5641\n",
            "Epoch 3/50\n",
            "355/355 [==============================] - 4s 13ms/step - loss: 0.5329 - mse: 0.5330 - val_loss: 0.5641 - val_mse: 0.5645\n",
            "Epoch 4/50\n",
            "355/355 [==============================] - 3s 9ms/step - loss: 0.5330 - mse: 0.5330 - val_loss: 0.5639 - val_mse: 0.5643\n",
            "Epoch 5/50\n",
            "355/355 [==============================] - 3s 9ms/step - loss: 0.5328 - mse: 0.5328 - val_loss: 0.5640 - val_mse: 0.5643\n",
            "Epoch 6/50\n",
            "355/355 [==============================] - 3s 9ms/step - loss: 0.5328 - mse: 0.5328 - val_loss: 0.5648 - val_mse: 0.5652\n",
            "Epoch 7/50\n",
            "355/355 [==============================] - 4s 13ms/step - loss: 0.5328 - mse: 0.5327 - val_loss: 0.5639 - val_mse: 0.5642\n",
            "Epoch 8/50\n",
            "355/355 [==============================] - 3s 9ms/step - loss: 0.5327 - mse: 0.5326 - val_loss: 0.5638 - val_mse: 0.5642\n",
            "Epoch 9/50\n",
            "355/355 [==============================] - 3s 10ms/step - loss: 0.5325 - mse: 0.5325 - val_loss: 0.5645 - val_mse: 0.5649\n",
            "Epoch 10/50\n",
            "355/355 [==============================] - 4s 12ms/step - loss: 0.5328 - mse: 0.5328 - val_loss: 0.5640 - val_mse: 0.5644\n",
            "Epoch 11/50\n",
            "355/355 [==============================] - 3s 10ms/step - loss: 0.5327 - mse: 0.5327 - val_loss: 0.5647 - val_mse: 0.5651\n",
            "Epoch 12/50\n",
            "355/355 [==============================] - 3s 9ms/step - loss: 0.5326 - mse: 0.5327 - val_loss: 0.5639 - val_mse: 0.5643\n",
            "Epoch 13/50\n",
            "355/355 [==============================] - 3s 9ms/step - loss: 0.5325 - mse: 0.5325 - val_loss: 0.5643 - val_mse: 0.5647\n",
            "Epoch 14/50\n",
            "355/355 [==============================] - 4s 12ms/step - loss: 0.5326 - mse: 0.5326 - val_loss: 0.5638 - val_mse: 0.5641\n",
            "Epoch 15/50\n",
            "355/355 [==============================] - 3s 9ms/step - loss: 0.5326 - mse: 0.5326 - val_loss: 0.5640 - val_mse: 0.5643\n",
            "Epoch 16/50\n",
            "355/355 [==============================] - 3s 9ms/step - loss: 0.5327 - mse: 0.5327 - val_loss: 0.5638 - val_mse: 0.5642\n",
            "Epoch 17/50\n",
            "355/355 [==============================] - 3s 9ms/step - loss: 0.5324 - mse: 0.5324 - val_loss: 0.5640 - val_mse: 0.5643\n",
            "Epoch 18/50\n",
            "355/355 [==============================] - 4s 12ms/step - loss: 0.5324 - mse: 0.5324 - val_loss: 0.5639 - val_mse: 0.5642\n",
            "Epoch 19/50\n",
            "355/355 [==============================] - 3s 9ms/step - loss: 0.5323 - mse: 0.5323 - val_loss: 0.5648 - val_mse: 0.5651\n",
            "Epoch 20/50\n",
            "355/355 [==============================] - 3s 9ms/step - loss: 0.5324 - mse: 0.5324 - val_loss: 0.5642 - val_mse: 0.5645\n",
            "Epoch 21/50\n",
            "355/355 [==============================] - 4s 11ms/step - loss: 0.5325 - mse: 0.5325 - val_loss: 0.5641 - val_mse: 0.5644\n",
            "Epoch 22/50\n",
            "355/355 [==============================] - 4s 10ms/step - loss: 0.5323 - mse: 0.5323 - val_loss: 0.5638 - val_mse: 0.5642\n",
            "Epoch 23/50\n",
            "355/355 [==============================] - 3s 9ms/step - loss: 0.5325 - mse: 0.5325 - val_loss: 0.5645 - val_mse: 0.5648\n",
            "Epoch 24/50\n",
            "355/355 [==============================] - 3s 9ms/step - loss: 0.5324 - mse: 0.5325 - val_loss: 0.5644 - val_mse: 0.5648\n",
            "Epoch 25/50\n",
            "355/355 [==============================] - 4s 13ms/step - loss: 0.5324 - mse: 0.5324 - val_loss: 0.5640 - val_mse: 0.5643\n",
            "Epoch 26/50\n",
            "355/355 [==============================] - 3s 9ms/step - loss: 0.5324 - mse: 0.5324 - val_loss: 0.5638 - val_mse: 0.5641\n",
            "Epoch 27/50\n",
            "355/355 [==============================] - 3s 9ms/step - loss: 0.5322 - mse: 0.5322 - val_loss: 0.5640 - val_mse: 0.5644\n",
            "Epoch 28/50\n",
            "355/355 [==============================] - 3s 9ms/step - loss: 0.5323 - mse: 0.5323 - val_loss: 0.5643 - val_mse: 0.5646\n",
            "Epoch 29/50\n",
            "355/355 [==============================] - 4s 13ms/step - loss: 0.5324 - mse: 0.5324 - val_loss: 0.5641 - val_mse: 0.5644\n",
            "Epoch 30/50\n",
            "355/355 [==============================] - 3s 9ms/step - loss: 0.5323 - mse: 0.5323 - val_loss: 0.5640 - val_mse: 0.5643\n",
            "Epoch 31/50\n",
            "355/355 [==============================] - 3s 9ms/step - loss: 0.5325 - mse: 0.5325 - val_loss: 0.5642 - val_mse: 0.5645\n",
            "Epoch 32/50\n",
            "355/355 [==============================] - 4s 11ms/step - loss: 0.5321 - mse: 0.5321 - val_loss: 0.5641 - val_mse: 0.5644\n",
            "Epoch 33/50\n",
            "355/355 [==============================] - 4s 11ms/step - loss: 0.5322 - mse: 0.5322 - val_loss: 0.5647 - val_mse: 0.5651\n",
            "Epoch 34/50\n",
            "355/355 [==============================] - 3s 9ms/step - loss: 0.5321 - mse: 0.5321 - val_loss: 0.5639 - val_mse: 0.5643\n",
            "Epoch 35/50\n",
            "355/355 [==============================] - 3s 9ms/step - loss: 0.5323 - mse: 0.5323 - val_loss: 0.5639 - val_mse: 0.5643\n",
            "Epoch 36/50\n",
            "355/355 [==============================] - 4s 11ms/step - loss: 0.5323 - mse: 0.5323 - val_loss: 0.5638 - val_mse: 0.5642\n",
            "Epoch 37/50\n",
            "355/355 [==============================] - 4s 10ms/step - loss: 0.5324 - mse: 0.5324 - val_loss: 0.5640 - val_mse: 0.5643\n",
            "Epoch 38/50\n",
            "355/355 [==============================] - 3s 9ms/step - loss: 0.5324 - mse: 0.5324 - val_loss: 0.5643 - val_mse: 0.5646\n",
            "Epoch 39/50\n",
            "355/355 [==============================] - 3s 9ms/step - loss: 0.5322 - mse: 0.5322 - val_loss: 0.5646 - val_mse: 0.5649\n",
            "Epoch 40/50\n",
            "355/355 [==============================] - 5s 13ms/step - loss: 0.5323 - mse: 0.5323 - val_loss: 0.5643 - val_mse: 0.5647\n",
            "Epoch 41/50\n",
            "355/355 [==============================] - 3s 9ms/step - loss: 0.5322 - mse: 0.5322 - val_loss: 0.5642 - val_mse: 0.5646\n",
            "Epoch 42/50\n",
            "355/355 [==============================] - 3s 10ms/step - loss: 0.5323 - mse: 0.5323 - val_loss: 0.5640 - val_mse: 0.5643\n",
            "Epoch 43/50\n",
            "355/355 [==============================] - 3s 10ms/step - loss: 0.5321 - mse: 0.5320 - val_loss: 0.5641 - val_mse: 0.5645\n",
            "Epoch 44/50\n",
            "355/355 [==============================] - 4s 12ms/step - loss: 0.5323 - mse: 0.5323 - val_loss: 0.5641 - val_mse: 0.5644\n",
            "Epoch 45/50\n",
            "355/355 [==============================] - 3s 9ms/step - loss: 0.5321 - mse: 0.5320 - val_loss: 0.5659 - val_mse: 0.5663\n",
            "Epoch 46/50\n",
            "355/355 [==============================] - 3s 9ms/step - loss: 0.5324 - mse: 0.5325 - val_loss: 0.5647 - val_mse: 0.5651\n",
            "Epoch 47/50\n",
            "355/355 [==============================] - 4s 12ms/step - loss: 0.5321 - mse: 0.5321 - val_loss: 0.5646 - val_mse: 0.5650\n",
            "Epoch 48/50\n",
            "355/355 [==============================] - 4s 10ms/step - loss: 0.5319 - mse: 0.5319 - val_loss: 0.5639 - val_mse: 0.5642\n",
            "Epoch 49/50\n",
            "355/355 [==============================] - 3s 9ms/step - loss: 0.5322 - mse: 0.5323 - val_loss: 0.5642 - val_mse: 0.5646\n",
            "Epoch 50/50\n",
            "355/355 [==============================] - 3s 9ms/step - loss: 0.5320 - mse: 0.5320 - val_loss: 0.5647 - val_mse: 0.5651\n"
          ]
        }
      ]
    },
    {
      "cell_type": "code",
      "source": [
        "y_test.shape"
      ],
      "metadata": {
        "colab": {
          "base_uri": "https://localhost:8080/"
        },
        "id": "uy2xuTzbh1QY",
        "outputId": "5eb8968e-c1ef-40a7-ab5f-c13e80ad4e40"
      },
      "execution_count": 287,
      "outputs": [
        {
          "output_type": "execute_result",
          "data": {
            "text/plain": [
              "(3498, 4)"
            ]
          },
          "metadata": {},
          "execution_count": 287
        }
      ]
    },
    {
      "cell_type": "code",
      "source": [
        "predictions = model.predict(X_test)"
      ],
      "metadata": {
        "colab": {
          "base_uri": "https://localhost:8080/"
        },
        "id": "J5FMv_blh1Nn",
        "outputId": "ec4091af-d9d0-440d-cc64-a07dc823ac13"
      },
      "execution_count": 288,
      "outputs": [
        {
          "output_type": "stream",
          "name": "stdout",
          "text": [
            "110/110 [==============================] - 0s 2ms/step\n"
          ]
        }
      ]
    },
    {
      "cell_type": "code",
      "source": [
        "predictions = np.reshape(predictions, (y_test.shape[0],no_of_future_days))"
      ],
      "metadata": {
        "id": "96K-Rii07ioM"
      },
      "execution_count": 289,
      "outputs": []
    },
    {
      "cell_type": "code",
      "source": [
        "X_test_re = np.reshape(X_test, (X_test.shape[0],no_of_past_days))"
      ],
      "metadata": {
        "id": "2M5nc0evmagc"
      },
      "execution_count": 290,
      "outputs": []
    },
    {
      "cell_type": "code",
      "source": [
        "for i in range(0,5):\n",
        "  plt.figure()\n",
        "  plt.title(\"acutal\")\n",
        "  final_plot1 = list(y_test[i])\n",
        "  plt.plot(final_plot1)\n",
        "  \n",
        "  plt.figure()\n",
        "  plt.title(\"predicted\")\n",
        "  final_plot = list(predictions[i])\n",
        "  plt.plot(final_plot)\n"
      ],
      "metadata": {
        "colab": {
          "base_uri": "https://localhost:8080/",
          "height": 1000
        },
        "id": "XcoKDPGtmowG",
        "outputId": "ccff255f-71a6-4624-91cb-d2e04f7be6e6"
      },
      "execution_count": 291,
      "outputs": [
        {
          "output_type": "display_data",
          "data": {
            "text/plain": [
              "<Figure size 432x288 with 1 Axes>"
            ],
            "image/png": "[encoded data removed]"
          },
          "metadata": {
            "needs_background": "light"
          }
        },
        {
          "output_type": "display_data",
          "data": {
            "text/plain": [
              "<Figure size 432x288 with 1 Axes>"
            ],
            "image/png": "[encoded data removed]"
          },
          "metadata": {
            "needs_background": "light"
          }
        },
        {
          "output_type": "display_data",
          "data": {
            "text/plain": [
              "<Figure size 432x288 with 1 Axes>"
            ],
            "image/png": "[encoded data removed]"
          },
          "metadata": {
            "needs_background": "light"
          }
        },
        {
          "output_type": "display_data",
          "data": {
            "text/plain": [
              "<Figure size 432x288 with 1 Axes>"
            ],
            "image/png": "[encoded data removed]"
          },
          "metadata": {
            "needs_background": "light"
          }
        },
        {
          "output_type": "display_data",
          "data": {
            "text/plain": [
              "<Figure size 432x288 with 1 Axes>"
            ],
            "image/png": "[encoded data removed]"
          },
          "metadata": {
            "needs_background": "light"
          }
        },
        {
          "output_type": "display_data",
          "data": {
            "text/plain": [
              "<Figure size 432x288 with 1 Axes>"
            ],
            "image/png": "[encoded data removed]"
          },
          "metadata": {
            "needs_background": "light"
          }
        },
        {
          "output_type": "display_data",
          "data": {
            "text/plain": [
              "<Figure size 432x288 with 1 Axes>"
            ],
            "image/png": "[encoded data removed]"
          },
          "metadata": {
            "needs_background": "light"
          }
        },
        {
          "output_type": "display_data",
          "data": {
            "text/plain": [
              "<Figure size 432x288 with 1 Axes>"
            ],
            "image/png": "[encoded data removed]"
          },
          "metadata": {
            "needs_background": "light"
          }
        },
        {
          "output_type": "display_data",
          "data": {
            "text/plain": [
              "<Figure size 432x288 with 1 Axes>"
            ],
            "image/png": "[encoded data removed]"
          },
          "metadata": {
            "needs_background": "light"
          }
        },
        {
          "output_type": "display_data",
          "data": {
            "text/plain": [
              "<Figure size 432x288 with 1 Axes>"
            ],
            "image/png": "[encoded data removed]"
          },
          "metadata": {
            "needs_background": "light"
          }
        }
      ]
    },
    {
      "cell_type": "code",
      "source": [],
      "metadata": {
        "id": "CZE8f-Q9mVWZ"
      },
      "execution_count": 257,
      "outputs": []
    }
  ]
}